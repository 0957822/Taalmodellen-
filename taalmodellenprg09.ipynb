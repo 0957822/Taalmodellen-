{
 "cells": [
  {
   "cell_type": "code",
   "execution_count": 1,
   "id": "3a8665ca-753a-40b0-a520-3a47953e5b96",
   "metadata": {},
   "outputs": [
    {
     "name": "stdout",
     "output_type": "stream",
     "text": [
      "WARNING:tensorflow:From C:\\Users\\innie\\AppData\\Roaming\\Python\\Python311\\site-packages\\keras\\src\\losses.py:2976: The name tf.losses.sparse_softmax_cross_entropy is deprecated. Please use tf.compat.v1.losses.sparse_softmax_cross_entropy instead.\n",
      "\n"
     ]
    }
   ],
   "source": [
    "import random \n",
    "import pickle\n",
    "\n",
    "import numpy as np \n",
    "import pandas as pd \n",
    "from nltk.tokenize import RegexpTokenizer\n",
    "\n",
    "from tensorflow.keras.models import Sequential, load_model \n",
    "from tensorflow.keras.layers import LSTM, Dense, Activation \n",
    "from tensorflow.keras.optimizers import RMSprop"
   ]
  },
  {
   "cell_type": "code",
   "execution_count": 2,
   "id": "b5b1e95f-67c1-45a6-b4ee-f9046ae4b784",
   "metadata": {},
   "outputs": [],
   "source": [
    "text_df = pd.read_csv(\"zinnen1.csv\")"
   ]
  },
  {
   "cell_type": "code",
   "execution_count": 3,
   "id": "dcc681b2-2489-4e97-9d20-a348f7f532f8",
   "metadata": {},
   "outputs": [],
   "source": [
    "text = list(text_df.text.values)\n",
    "joined_text = \" \".join(text)"
   ]
  },
  {
   "cell_type": "code",
   "execution_count": 4,
   "id": "92a7d23a-717b-4c1b-a03c-89efcb74675e",
   "metadata": {},
   "outputs": [],
   "source": [
    "partial_text = joined_text[:20000]"
   ]
  },
  {
   "cell_type": "code",
   "execution_count": 5,
   "id": "29d711c9-005a-4b4b-9bfd-05f1ba4e4051",
   "metadata": {},
   "outputs": [],
   "source": [
    "tokenizer = RegexpTokenizer(r\"\\w+\")\n",
    "tokens = tokenizer.tokenize(partial_text.lower())"
   ]
  },
  {
   "cell_type": "code",
   "execution_count": 6,
   "id": "6aff3af3-6b56-4db8-a6a9-62ccaddb152f",
   "metadata": {},
   "outputs": [],
   "source": [
    "unique_tokens = np.unique(tokens)\n",
    "unique_token_index = {token: idx for idx, token in enumerate(unique_tokens)}"
   ]
  },
  {
   "cell_type": "code",
   "execution_count": 7,
   "id": "0a2f6bd5-3f0d-4ad6-a3fc-236726de69da",
   "metadata": {},
   "outputs": [],
   "source": [
    "n_words = 10\n",
    "input_words = []\n",
    "next_words = []\n",
    "\n",
    "for i in range(len(tokens) - n_words):\n",
    "    input_words.append(tokens[i:i + n_words])\n",
    "    next_words.append(tokens[i + n_words])"
   ]
  },
  {
   "cell_type": "code",
   "execution_count": 8,
   "id": "22b0c0c3-cf1a-4673-89cc-11b0d98982e3",
   "metadata": {},
   "outputs": [],
   "source": [
    "X = np.zeros((len(input_words), n_words, len(unique_tokens)), dtype=bool)\n",
    "y = np.zeros((len(next_words), len(unique_tokens)), dtype=bool)"
   ]
  },
  {
   "cell_type": "code",
   "execution_count": 9,
   "id": "a7700069-f6cf-4124-b6d6-625539d51799",
   "metadata": {},
   "outputs": [],
   "source": [
    "for i, words in enumerate(input_words):\n",
    "    for j, word in enumerate(words):\n",
    "        X[i, j, unique_token_index[word]] = 1\n",
    "    y[i, unique_token_index[next_words[i]]] = 1"
   ]
  },
  {
   "cell_type": "code",
   "execution_count": 10,
   "id": "dfb4369f-7be2-4173-b0ce-3634c37556c0",
   "metadata": {},
   "outputs": [
    {
     "name": "stdout",
     "output_type": "stream",
     "text": [
      "WARNING:tensorflow:From C:\\Users\\innie\\AppData\\Roaming\\Python\\Python311\\site-packages\\keras\\src\\backend.py:873: The name tf.get_default_graph is deprecated. Please use tf.compat.v1.get_default_graph instead.\n",
      "\n"
     ]
    }
   ],
   "source": [
    "model = Sequential()\n",
    "model.add(LSTM(128, input_shape=(n_words, len(unique_tokens)), return_sequences=True))\n",
    "model.add(LSTM(128))\n",
    "model.add(Dense(len(unique_tokens)))\n",
    "model.add(Activation(\"softmax\"))"
   ]
  },
  {
   "cell_type": "code",
   "execution_count": null,
   "id": "36573d61-cc63-417c-bdf5-e1ce6fdb4b5d",
   "metadata": {},
   "outputs": [
    {
     "name": "stdout",
     "output_type": "stream",
     "text": [
      "Epoch 1/30\n",
      "WARNING:tensorflow:From C:\\Users\\innie\\AppData\\Roaming\\Python\\Python311\\site-packages\\keras\\src\\utils\\tf_utils.py:492: The name tf.ragged.RaggedTensorValue is deprecated. Please use tf.compat.v1.ragged.RaggedTensorValue instead.\n",
      "\n",
      "WARNING:tensorflow:From C:\\Users\\innie\\AppData\\Roaming\\Python\\Python311\\site-packages\\keras\\src\\engine\\base_layer_utils.py:384: The name tf.executing_eagerly_outside_functions is deprecated. Please use tf.compat.v1.executing_eagerly_outside_functions instead.\n",
      "\n",
      "27/27 [==============================] - 4s 31ms/step - loss: 6.0010 - accuracy: 0.0750\n",
      "Epoch 2/30\n",
      "27/27 [==============================] - 1s 30ms/step - loss: 5.7032 - accuracy: 0.0834\n",
      "Epoch 3/30\n",
      "27/27 [==============================] - 1s 31ms/step - loss: 5.5560 - accuracy: 0.0822\n",
      "Epoch 4/30\n",
      "27/27 [==============================] - 1s 39ms/step - loss: 5.2716 - accuracy: 0.0890\n",
      "Epoch 5/30\n",
      "27/27 [==============================] - 1s 48ms/step - loss: 4.9577 - accuracy: 0.1155\n",
      "Epoch 6/30\n",
      "27/27 [==============================] - 1s 52ms/step - loss: 4.7107 - accuracy: 0.1370\n",
      "Epoch 7/30\n",
      "27/27 [==============================] - 1s 47ms/step - loss: 4.3196 - accuracy: 0.1689\n",
      "Epoch 8/30\n",
      "27/27 [==============================] - 1s 53ms/step - loss: 3.9762 - accuracy: 0.1992\n",
      "Epoch 9/30\n",
      "27/27 [==============================] - 1s 52ms/step - loss: 3.6675 - accuracy: 0.2448\n",
      "Epoch 10/30\n",
      "27/27 [==============================] - 1s 52ms/step - loss: 3.3501 - accuracy: 0.2993\n",
      "Epoch 11/30\n",
      "27/27 [==============================] - 1s 54ms/step - loss: 3.0712 - accuracy: 0.3383\n",
      "Epoch 12/30\n",
      "27/27 [==============================] - 1s 52ms/step - loss: 2.7671 - accuracy: 0.3904\n",
      "Epoch 13/30\n",
      " 6/27 [=====>........................] - ETA: 1s - loss: 2.4955 - accuracy: 0.4049"
     ]
    }
   ],
   "source": [
    "model.compile(loss=\"categorical_crossentropy\", optimizer=RMSprop(learning_rate=0.01), metrics=[\"accuracy\"])\n",
    "model.fit(X, y, batch_size=128, epochs=30, shuffle=True)"
   ]
  },
  {
   "cell_type": "code",
   "execution_count": null,
   "id": "811ae58f-7bdb-4b9d-8224-1e9795c2b699",
   "metadata": {},
   "outputs": [],
   "source": [
    "model.save(\"my_model.keras\")"
   ]
  },
  {
   "cell_type": "code",
   "execution_count": null,
   "id": "49372108-612f-4686-99cf-9b544d6b5b6f",
   "metadata": {},
   "outputs": [],
   "source": [
    "model = load_model(\"my_model.keras\")"
   ]
  },
  {
   "cell_type": "code",
   "execution_count": null,
   "id": "f82953f7-1fc3-429e-8e11-a1742aff5c48",
   "metadata": {},
   "outputs": [],
   "source": [
    "def predict_next_word(input_text, n_best):\n",
    "    input_text = input_text.lower()\n",
    "    X = np.zeros((1, n_words, len(unique_tokens)))\n",
    "    for i, word in enumerate(input_text.split()):\n",
    "        X[0, i, unique_token_index[word]] = 1\n",
    "        \n",
    "    predictions = model.predict(X)[0]\n",
    "    return np.argpartition(predictions, -n_best)[-n_best:]"
   ]
  },
  {
   "cell_type": "code",
   "execution_count": null,
   "id": "6802c7ff-4f89-44ff-ae53-f3ccb9c97bd9",
   "metadata": {},
   "outputs": [],
   "source": [
    "possible = predict_next_word(\"De maan lijkt\", 5)"
   ]
  },
  {
   "cell_type": "code",
   "execution_count": null,
   "id": "3f15ea31-acfa-4f8b-92ae-b96ad8f4a036",
   "metadata": {},
   "outputs": [],
   "source": [
    "print([unique_tokens[idx] for idx in possible])"
   ]
  },
  {
   "cell_type": "code",
   "execution_count": null,
   "id": "64847d62-523e-4ea3-9218-e98205fdad61",
   "metadata": {},
   "outputs": [],
   "source": [
    "def generate_text(input_text, text_lenght, creativity=3):\n",
    "    word_sequence = input_text.split()\n",
    "    current = 0\n",
    "    for _ in range(text_lenght):\n",
    "        sub_sequence = \" \".join(tokenizer.tokenize(\" \".join(word_sequence).lower())[current:current+n_words])\n",
    "        try:\n",
    "            choice = unique_tokens[random.choice(predict_next_word(sub_sequence, creativity))]\n",
    "        except:\n",
    "            choice = random.choice(unique_tokens)\n",
    "        word_sequence.append(choice)\n",
    "        current += 1\n",
    "\n",
    "    \n",
    "    return \" \".join(word_sequence)"
   ]
  },
  {
   "cell_type": "code",
   "execution_count": null,
   "id": "e10a67fc-7afe-443e-aeec-47544c15e1f9",
   "metadata": {},
   "outputs": [],
   "source": [
    "generate_text(\"De maan lijkt\", 10, 5)"
   ]
  },
  {
   "cell_type": "markdown",
   "id": "ecd911a9-963d-4328-aef6-0d37b11ef892",
   "metadata": {},
   "source": [
    " "
   ]
  }
 ],
 "metadata": {
  "kernelspec": {
   "display_name": "Python 3 (ipykernel)",
   "language": "python",
   "name": "python3"
  },
  "language_info": {
   "codemirror_mode": {
    "name": "ipython",
    "version": 3
   },
   "file_extension": ".py",
   "mimetype": "text/x-python",
   "name": "python",
   "nbconvert_exporter": "python",
   "pygments_lexer": "ipython3",
   "version": "3.11.5"
  }
 },
 "nbformat": 4,
 "nbformat_minor": 5
}
